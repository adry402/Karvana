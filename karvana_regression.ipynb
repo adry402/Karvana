{
 "cells": [
  {
   "cell_type": "code",
   "execution_count": null,
   "metadata": {},
   "outputs": [],
   "source": [
    "import numpy as np\n",
    "import missingno as msno\n",
    "import pandas as pd\n",
    "from pandas import Series, DataFrame\n",
    "from pandas.api.types import is_string_dtype, is_numeric_dtype  \n",
    "import matplotlib.pyplot as plt\n",
    "from matplotlib import rcParams\n",
    "from collections import Counter\n",
    "import seaborn as sns\n",
    "\n",
    "from sklearn.ensemble import RandomForestRegressor\n",
    "from sklearn.model_selection import train_test_split\n",
    "from datetime import datetime\n",
    "import datetime as dt\n",
    "from sklearn import metrics\n",
    "from sklearn.model_selection import cross_val_score\n",
    "\n",
    "\n",
    "import utils as u"
   ]
  },
  {
   "cell_type": "code",
   "execution_count": null,
   "metadata": {},
   "outputs": [],
   "source": [
    "%matplotlib inline \n",
    "rcParams['figure.figsize'] = 5,4 "
   ]
  },
  {
   "cell_type": "markdown",
   "metadata": {},
   "source": [
    "#### Prediccion del valor de automoviles\n",
    "Se leen los datso iniciales para conocer el numero de registros y variables"
   ]
  },
  {
   "cell_type": "code",
   "execution_count": null,
   "metadata": {},
   "outputs": [],
   "source": [
    "df_inicial = pd.read_csv(\"datos_para_trabajo.csv\")\n",
    "print(\"Numero de registros y variables: \" , df_inicial.shape)\n",
    "df_inicial.head(3)"
   ]
  },
  {
   "cell_type": "markdown",
   "metadata": {},
   "source": [
    "Datos faltantes: en principio no existen ya que en el encabezado del problema se indico que el conjunto de datos tiene una limpieza previa"
   ]
  },
  {
   "cell_type": "code",
   "execution_count": null,
   "metadata": {},
   "outputs": [],
   "source": [
    "print(\"Datos faltantes\")\n",
    "print(df_inicial.isnull().sum())\n",
    "plt.style.use('ggplot')\n",
    "msno.bar(df_inicial, figsize=(10,5), color=\"dodgerblue\", fontsize=12)"
   ]
  },
  {
   "cell_type": "markdown",
   "metadata": {},
   "source": [
    "Se imprime el tipo de datos de cada variable"
   ]
  },
  {
   "cell_type": "code",
   "execution_count": null,
   "metadata": {},
   "outputs": [],
   "source": [
    "df_inicial.dtypes"
   ]
  },
  {
   "cell_type": "markdown",
   "metadata": {},
   "source": [
    " Separamos entre las variable numericas y categoricas"
   ]
  },
  {
   "cell_type": "code",
   "execution_count": null,
   "metadata": {},
   "outputs": [],
   "source": [
    "num_list = []\n",
    "cat_list = []\n",
    "\n",
    "for column in df_inicial:\n",
    "    if is_numeric_dtype(df_inicial[column]):\n",
    "        num_list.append(column)\n",
    "    elif is_string_dtype(df_inicial[column]):\n",
    "        cat_list.append(column)\n",
    "print('Categoricas: ', cat_list)\n",
    "print('Numericas: ', num_list)"
   ]
  },
  {
   "cell_type": "markdown",
   "metadata": {},
   "source": [
    "A continuacion se analiza las correlaciones existentes entre las variables"
   ]
  },
  {
   "cell_type": "code",
   "execution_count": null,
   "metadata": {},
   "outputs": [],
   "source": [
    "corr = df_inicial[num_list].corr()\n",
    "ax = sns.heatmap(\n",
    "    corr, \n",
    "    vmin=-1, vmax=1, center=0,\n",
    "    cmap=sns.diverging_palette(20, 220, n=200),\n",
    "    square=True\n",
    ")\n",
    "ax.set_xticklabels(\n",
    "    ax.get_xticklabels(),\n",
    "    rotation=45,\n",
    "    horizontalalignment='right'\n",
    ");"
   ]
  },
  {
   "cell_type": "markdown",
   "metadata": {},
   "source": [
    "Se observa que las variables city_mpg y highway_mpg estan muy correlacionadas entre si, se puede seleccionar una y continuar con el analisis o en este caso se va a calcular una nueva variable.\n",
    "Las variables peak_rpm, compression_ratio, stroke y height son las que menos se correlacionan con la variable objetivo, podrian quitarse del conjunto de datos."
   ]
  },
  {
   "cell_type": "markdown",
   "metadata": {},
   "source": [
    "### Feature engineering\n",
    "Se crea una nueva variable que pondere con el mismo porcentaje el consumo de combustible en ciudad y carretera"
   ]
  },
  {
   "cell_type": "code",
   "execution_count": null,
   "metadata": {},
   "outputs": [],
   "source": [
    "df_inicial['fuel_mpg'] = (0.50 * df_inicial['city_mpg']) + (0.50 * df_inicial['highway_mpg'])"
   ]
  },
  {
   "cell_type": "markdown",
   "metadata": {},
   "source": [
    "Quitamos las variables menos correlacionadas con la variable objetivo stroke, compression_ratio\n",
    "\n",
    "\n",
    "Se retira tambien la variable highway-mpg ya que esta muy correlacionada con city-mpg"
   ]
  },
  {
   "cell_type": "code",
   "execution_count": null,
   "metadata": {},
   "outputs": [],
   "source": [
    "\n",
    "num_list.append('fuel_mpg')\n",
    "num_list.remove('stroke')\n",
    "num_list.remove('compression_ratio')\n",
    "num_list.remove('height')\n",
    "num_list.remove('peak_rpm')\n",
    "num_list.remove('city_mpg')\n",
    "num_list.remove('highway_mpg')\n",
    "\n",
    "corr = df_inicial[num_list].corr()\n",
    "ax = sns.heatmap(\n",
    "    corr, \n",
    "    vmin=-1, vmax=1, center=0,\n",
    "    cmap=sns.diverging_palette(20, 220, n=200),\n",
    "    square=True\n",
    ")\n",
    "ax.set_xticklabels(\n",
    "    ax.get_xticklabels(),\n",
    "    rotation=45,\n",
    "    horizontalalignment='right'\n",
    ");"
   ]
  },
  {
   "cell_type": "code",
   "execution_count": null,
   "metadata": {},
   "outputs": [],
   "source": [
    "corr"
   ]
  },
  {
   "cell_type": "markdown",
   "metadata": {},
   "source": [
    "Se analizan las variables categoricas y si existe una correlacion con la variable objetivo"
   ]
  },
  {
   "cell_type": "code",
   "execution_count": null,
   "metadata": {},
   "outputs": [],
   "source": [
    "g = sns.boxplot(x='make',y='lnprice',data=df_inicial.sort_values(by=['lnprice']))\n",
    "g.set_ylabel('lnprice',size=14)\n",
    "g.set_xticklabels(g.get_xticklabels(),rotation = 90)\n",
    "g.set_xlabel('make',size=14);"
   ]
  },
  {
   "cell_type": "code",
   "execution_count": null,
   "metadata": {},
   "outputs": [],
   "source": [
    "Counter(df_inicial.make)"
   ]
  },
  {
   "cell_type": "markdown",
   "metadata": {},
   "source": [
    "Dado que hay un conteo muy pequeño de autos en una marca, se pueden agrupar, ademas se observa en la grafica que  un grupo de autos tienen mayor precio. Se agrupan en 3 categorias"
   ]
  },
  {
   "cell_type": "code",
   "execution_count": null,
   "metadata": {},
   "outputs": [],
   "source": [
    "temp = df_inicial.copy()\n",
    "table = df_inicial.groupby(['make'])['lnprice'].mean()\n",
    "temp = temp.merge(table.reset_index(), how='left',on='make')\n",
    "bins = [-2,-0.5,1,3]\n",
    "cars_bin=['economico','medio','costoso']\n",
    "df_inicial['price_range'] = pd.cut(temp['lnprice_y'],bins,right=False,labels=cars_bin)\n",
    "df_inicial.head()"
   ]
  },
  {
   "cell_type": "code",
   "execution_count": null,
   "metadata": {},
   "outputs": [],
   "source": [
    "g = sns.boxplot(x='price_range',y='lnprice',data=df_inicial.sort_values(by=['lnprice']))\n",
    "g.set_ylabel('lnprice',size=14)\n",
    "g.set_xticklabels(g.get_xticklabels(),rotation = 90)\n",
    "g.set_xlabel('fuel_type',size=14);"
   ]
  },
  {
   "cell_type": "markdown",
   "metadata": {},
   "source": [
    "Se grafican las demas variables, se pondra atencion en como varian las medias en cada categoria y si se pueden calcular nuevas variables"
   ]
  },
  {
   "cell_type": "code",
   "execution_count": null,
   "metadata": {},
   "outputs": [],
   "source": [
    "g = sns.boxplot(x='fuel_type',y='lnprice',data=df_inicial.sort_values(by=['lnprice']))\n",
    "g.set_ylabel('lnprice',size=14)\n",
    "g.set_xticklabels(g.get_xticklabels(),rotation = 90)\n",
    "g.set_xlabel('fuel_type',size=14);"
   ]
  },
  {
   "cell_type": "code",
   "execution_count": null,
   "metadata": {},
   "outputs": [],
   "source": [
    "g = sns.boxplot(x='aspiration',y='lnprice',data=df_inicial.sort_values(by=['lnprice']))\n",
    "g.set_ylabel('lnprice',size=14)\n",
    "g.set_xticklabels(g.get_xticklabels(),rotation = 90)\n",
    "g.set_xlabel('aspiration',size=14);"
   ]
  },
  {
   "cell_type": "code",
   "execution_count": null,
   "metadata": {},
   "outputs": [],
   "source": [
    "g = sns.boxplot(x='body_style',y='lnprice',data=df_inicial.sort_values(by=['lnprice']))\n",
    "g.set_ylabel('lnprice',size=14)\n",
    "g.set_xticklabels(g.get_xticklabels(),rotation = 90)\n",
    "g.set_xlabel('body_style',size=14);"
   ]
  },
  {
   "cell_type": "code",
   "execution_count": null,
   "metadata": {},
   "outputs": [],
   "source": [
    "g = sns.boxplot(x='engine_location',y='lnprice',data=df_inicial.sort_values(by=['lnprice']))\n",
    "g.set_ylabel('lnprice',size=14)\n",
    "g.set_xticklabels(g.get_xticklabels(),rotation = 90)\n",
    "g.set_xlabel('engine_location',size=14);"
   ]
  },
  {
   "cell_type": "code",
   "execution_count": null,
   "metadata": {},
   "outputs": [],
   "source": [
    "g = sns.boxplot(x='num_of_cylinders',y='lnprice',data=df_inicial.sort_values(by=['lnprice']))\n",
    "g.set_ylabel('lnprice',size=14)\n",
    "g.set_xticklabels(g.get_xticklabels(),rotation = 90)\n",
    "g.set_xlabel('num_of_cylinders',size=14);"
   ]
  },
  {
   "cell_type": "code",
   "execution_count": null,
   "metadata": {},
   "outputs": [],
   "source": [
    "g = sns.boxplot(x='fuel_system',y='lnprice',data=df_inicial.sort_values(by=['lnprice']))\n",
    "g.set_ylabel('lnprice',size=14)\n",
    "g.set_xticklabels(g.get_xticklabels(),rotation = 90)\n",
    "g.set_xlabel('make',size=14);"
   ]
  },
  {
   "cell_type": "markdown",
   "metadata": {},
   "source": [
    "Se crea un dataset con las variables con las que se continua al modelado"
   ]
  },
  {
   "cell_type": "code",
   "execution_count": null,
   "metadata": {},
   "outputs": [],
   "source": [
    "## Variables finales\n",
    "df_inicial.drop(['city_mpg','highway_mpg','engine_type','drive_wheels','num_of_doors','stroke','compression_ratio','height','peak_rpm', 'make'], axis=1, inplace=True)"
   ]
  },
  {
   "cell_type": "code",
   "execution_count": null,
   "metadata": {},
   "outputs": [],
   "source": [
    "df_inicial.columns"
   ]
  },
  {
   "cell_type": "code",
   "execution_count": null,
   "metadata": {},
   "outputs": [],
   "source": [
    "df_modelo = df_inicial[['fuel_type', 'aspiration', 'body_style', 'engine_location',\n",
    "       'wheel_base', 'length', 'width', 'curb_weight', 'num_of_cylinders',\n",
    "       'engine_size', 'fuel_system', 'bore', 'horsepower',\n",
    "       'fuel_mpg', 'price_range', 'lnprice']]\n",
    "print(\"Numero de filas y variables final: \" , df_modelo.shape)\n",
    "df_modelo.head(5)"
   ]
  },
  {
   "cell_type": "markdown",
   "metadata": {},
   "source": [
    "Se transforma las variables categoricas"
   ]
  },
  {
   "cell_type": "code",
   "execution_count": null,
   "metadata": {},
   "outputs": [],
   "source": [
    "lst_cat = ['fuel_type', 'aspiration', 'body_style', 'engine_location', 'num_of_cylinders', 'fuel_system','price_range']\n",
    "\n",
    "for col in lst_cat:\n",
    "    \n",
    "    df_modelo[col] = df_modelo[col].astype('category')\n",
    "    df_modelo[col] = df_modelo[col] .cat.codes\n",
    "\n",
    "df_modelo.head(3)"
   ]
  },
  {
   "cell_type": "markdown",
   "metadata": {},
   "source": [
    "#### Modelos"
   ]
  },
  {
   "cell_type": "code",
   "execution_count": null,
   "metadata": {},
   "outputs": [],
   "source": [
    "X = df_modelo.loc[:, df_modelo.columns != 'lnprice']\n",
    "y = df_modelo['lnprice']"
   ]
  },
  {
   "cell_type": "markdown",
   "metadata": {},
   "source": [
    "Se divide en conjunto de train y test (75 - 25)"
   ]
  },
  {
   "cell_type": "code",
   "execution_count": null,
   "metadata": {},
   "outputs": [],
   "source": [
    "X_train, X_test, y_train, y_test = train_test_split(X,y,test_size = 0.25, random_state = 2402)\n",
    "\n",
    "plt.subplots(figsize=(10, 6))\n",
    "plt.subplot(1, 2, 1)\n",
    "sns.boxplot(y = (y_train))\n",
    "\n",
    "plt.subplot(1, 2, 2)\n",
    "sns.boxplot(y = (y_test))"
   ]
  },
  {
   "cell_type": "markdown",
   "metadata": {},
   "source": [
    "### Modelo inicial - linea base"
   ]
  },
  {
   "cell_type": "code",
   "execution_count": null,
   "metadata": {},
   "outputs": [],
   "source": [
    "rf = RandomForestRegressor(n_estimators = 1000, random_state = 2402)\n",
    "# Entrenar el modelo\n",
    "rf.fit(X_train, y_train)"
   ]
  },
  {
   "cell_type": "code",
   "execution_count": null,
   "metadata": {},
   "outputs": [],
   "source": [
    "print ('-----------')\n",
    "print ('RFR - linea base')\n",
    "print ('-----------')\n",
    "u.launch_model('RFR - linea base', rf, X_train, y_train, X_test, y_test);"
   ]
  },
  {
   "cell_type": "code",
   "execution_count": null,
   "metadata": {},
   "outputs": [],
   "source": [
    "u.graficas_resultados(X_test,y_test, rf)"
   ]
  },
  {
   "cell_type": "markdown",
   "metadata": {},
   "source": [
    "Mejorando el modelo"
   ]
  },
  {
   "cell_type": "code",
   "execution_count": null,
   "metadata": {},
   "outputs": [],
   "source": [
    "rf = RandomForestRegressor(random_state = 2402)\n",
    "from pprint import pprint\n",
    "print('Parameters currently in use:\\n')\n",
    "pprint(rf.get_params())"
   ]
  },
  {
   "cell_type": "code",
   "execution_count": null,
   "metadata": {},
   "outputs": [],
   "source": [
    "from sklearn.model_selection import RandomizedSearchCV\n",
    "n_estimators = [int(x) for x in np.linspace(start = 200, stop = 2000, num = 10)]\n",
    "max_features = ['auto', 'sqrt']\n",
    "max_depth = [int(x) for x in np.linspace(10, 110, num = 11)]\n",
    "max_depth.append(None)\n",
    "min_samples_split = [2, 5, 10]\n",
    "min_samples_leaf = [1, 2, 4]\n",
    "bootstrap = [True, False]\n",
    "random_grid = {'n_estimators': n_estimators,\n",
    "               'max_features': max_features,\n",
    "               'max_depth': max_depth,\n",
    "               'min_samples_split': min_samples_split,\n",
    "               'min_samples_leaf': min_samples_leaf,\n",
    "               'bootstrap': bootstrap}\n",
    "pprint(random_grid)"
   ]
  },
  {
   "cell_type": "markdown",
   "metadata": {},
   "source": [
    "Se usa una grilla random para encontrar los mejores parametros, se ussa cross validation con 3 folds"
   ]
  },
  {
   "cell_type": "code",
   "execution_count": null,
   "metadata": {},
   "outputs": [],
   "source": [
    "rf = RandomForestRegressor()\n",
    "rf_random = RandomizedSearchCV(estimator = rf, param_distributions = random_grid, n_iter = 100, cv = 3, verbose=2, random_state=42, n_jobs = -1)\n",
    "rf_random.fit(X_train, y_train)"
   ]
  },
  {
   "cell_type": "code",
   "execution_count": null,
   "metadata": {},
   "outputs": [],
   "source": [
    "rf_random.best_params_"
   ]
  },
  {
   "cell_type": "code",
   "execution_count": null,
   "metadata": {},
   "outputs": [],
   "source": [
    "best_random = rf_random.best_estimator_\n",
    "best_random.fit(X_train, y_train)"
   ]
  },
  {
   "cell_type": "code",
   "execution_count": null,
   "metadata": {},
   "outputs": [],
   "source": [
    "print ('-----------')\n",
    "print ('RFR - best random')\n",
    "print ('-----------')\n",
    "u.launch_model('RFR - best random', best_random, X_train, y_train, X_test, y_test);"
   ]
  },
  {
   "cell_type": "code",
   "execution_count": null,
   "metadata": {},
   "outputs": [],
   "source": [
    "u.graficas_resultados(X_test,y_test, best_random)"
   ]
  },
  {
   "cell_type": "markdown",
   "metadata": {},
   "source": [
    "Se mejora la busqueda en la grilla usando los valores random encontrados"
   ]
  },
  {
   "cell_type": "code",
   "execution_count": null,
   "metadata": {},
   "outputs": [],
   "source": [
    "from sklearn.model_selection import GridSearchCV\n",
    "param_grid = {\n",
    "    'bootstrap': [True],\n",
    "    'max_depth': [30, 40, 50, 60],\n",
    "    'max_features': [2, 3],\n",
    "    'min_samples_leaf': [1, 2, 3],\n",
    "    'min_samples_split': [4, 5, 6],\n",
    "    'n_estimators': [400, 500, 600, 700]\n",
    "}\n",
    "rf = RandomForestRegressor()\n",
    "grid_search = GridSearchCV(estimator = rf, param_grid = param_grid, \n",
    "                          cv = 3, n_jobs = -1, verbose = 2)"
   ]
  },
  {
   "cell_type": "code",
   "execution_count": null,
   "metadata": {},
   "outputs": [],
   "source": [
    "grid_search.fit(X_train, y_train)"
   ]
  },
  {
   "cell_type": "code",
   "execution_count": null,
   "metadata": {},
   "outputs": [],
   "source": [
    "grid_search.best_params_"
   ]
  },
  {
   "cell_type": "code",
   "execution_count": null,
   "metadata": {},
   "outputs": [],
   "source": [
    "best_grid = grid_search.best_estimator_\n",
    "best_grid.fit(X_train, y_train)"
   ]
  },
  {
   "cell_type": "code",
   "execution_count": null,
   "metadata": {},
   "outputs": [],
   "source": [
    "print ('-----------')\n",
    "print ('RFR - best grid')\n",
    "print ('-----------')\n",
    "u.launch_model('RFR - best grid', best_grid, X_train, y_train, X_test, y_test);"
   ]
  },
  {
   "cell_type": "markdown",
   "metadata": {},
   "source": [
    "El mejor modelo usando random forest es best grid. Se consideran dos metricas para esta seleccion.\n",
    "MSE (Error cuadratico medio) mientras menor sea es mejor\n",
    "y el R^2 (r-square) mientras mas cercano a uno es mejor. \n",
    "\n",
    "Para identificar el underfitting se considera el error entre el conjunto de entrenamiento y prueba, pensando en que el error en el conjunto de train debe ser menor que el de test.\n",
    "\n",
    "Para identificar overfitting en cambio se verifica el valor de R^2, para entrenamiento debe ser mayor que para prueba, sin embargo se considera aceptable una diferenica de hasta el 5%"
   ]
  },
  {
   "cell_type": "markdown",
   "metadata": {},
   "source": [
    "SVR Model"
   ]
  },
  {
   "cell_type": "code",
   "execution_count": null,
   "metadata": {},
   "outputs": [],
   "source": [
    "from sklearn.svm import SVR\n",
    "\n",
    "svr_lineal = SVR(kernel='linear')"
   ]
  },
  {
   "cell_type": "code",
   "execution_count": null,
   "metadata": {},
   "outputs": [],
   "source": [
    "svr_lineal.fit(X_train, y_train)"
   ]
  },
  {
   "cell_type": "code",
   "execution_count": null,
   "metadata": {},
   "outputs": [],
   "source": [
    "print(\"Para training\")\n",
    "print_evaluate(y_train, svr_lineal.predict(X_train))"
   ]
  },
  {
   "cell_type": "code",
   "execution_count": null,
   "metadata": {},
   "outputs": [],
   "source": [
    "print(\"Para testing\")\n",
    "print_evaluate(y_test, svr_lineal.predict(X_test))"
   ]
  },
  {
   "cell_type": "code",
   "execution_count": null,
   "metadata": {},
   "outputs": [],
   "source": [
    "from sklearn.model_selection import RepeatedKFold\n",
    "\n",
    "model = SVR()\n",
    "kernel = [\"linear\", \"rbf\", \"sigmoid\", \"poly\"]\n",
    "tolerance = [1e-3, 1e-4, 1e-5, 1e-6]\n",
    "C = [1, 1.5, 2, 2.5, 3]\n",
    "grid = dict(kernel=kernel, tol=tolerance, C=C)\n",
    "\n",
    "cvFold = RepeatedKFold(n_splits=10, n_repeats=3, random_state=1)\n",
    "gridSearch = GridSearchCV(estimator=model, param_grid=grid, n_jobs=-1,\n",
    "\tcv=cvFold, scoring=\"neg_mean_squared_error\")\n",
    "searchResults = gridSearch.fit(X_train, y_train)"
   ]
  },
  {
   "cell_type": "code",
   "execution_count": null,
   "metadata": {},
   "outputs": [],
   "source": [
    "bestModel_SVR = searchResults.best_estimator_\n",
    "bestModel_SVR.fit(X_train,y_train)"
   ]
  },
  {
   "cell_type": "code",
   "execution_count": null,
   "metadata": {},
   "outputs": [],
   "source": [
    "print(\"Para training\")\n",
    "print_evaluate(y_train, bestModel_SVR.predict(X_train))"
   ]
  },
  {
   "cell_type": "code",
   "execution_count": null,
   "metadata": {},
   "outputs": [],
   "source": [
    "print(\"Para testing\")\n",
    "print_evaluate(y_test, bestModel_SVR.predict(X_test))"
   ]
  },
  {
   "cell_type": "markdown",
   "metadata": {},
   "source": [
    "Seleccion del modelo y analisis de errores"
   ]
  },
  {
   "cell_type": "code",
   "execution_count": null,
   "metadata": {},
   "outputs": [],
   "source": [
    "results = []\n",
    "print ('-----------')\n",
    "print ('SVR - RBF')\n",
    "print ('-----------')\n",
    "results.append(launch_model('SVR - RBF', bestModel_SVR, X_train, y_train, X_test, y_test))\n",
    "print ('-----------')\n",
    "print ('RF - Best Model')\n",
    "print ('-----------')\n",
    "results.append(launch_model('RF - Best Model', best_grid, X_train, y_train, X_test, y_test))"
   ]
  },
  {
   "cell_type": "code",
   "execution_count": null,
   "metadata": {},
   "outputs": [],
   "source": [
    "plot(results)"
   ]
  },
  {
   "cell_type": "code",
   "execution_count": null,
   "metadata": {},
   "outputs": [],
   "source": [
    "from yellowbrick.regressor import ResidualsPlot\n",
    "\n",
    "#\n",
    "visualizer = ResidualsPlot(bestModel_SVR)\n",
    "visualizer.fit(X_train, y_train)  # Fit the training data to the visualizer\n",
    "visualizer.score(X_test, y_test)  # Evaluate the model on the test data\n",
    "visualizer.show() "
   ]
  },
  {
   "cell_type": "code",
   "execution_count": null,
   "metadata": {},
   "outputs": [],
   "source": [
    "import shap\n",
    "explainer = shap.TreeExplainer(best_grid)\n",
    "shap_values = explainer.shap_values(X_train)\n",
    "shap.summary_plot(shap_values, X_train, plot_type=\"bar\")"
   ]
  },
  {
   "cell_type": "code",
   "execution_count": null,
   "metadata": {},
   "outputs": [],
   "source": [
    "shap_values = explainer.shap_values(X_test)\n",
    "shap.summary_plot(shap_values, X_test, plot_type=\"bar\")"
   ]
  },
  {
   "cell_type": "code",
   "execution_count": null,
   "metadata": {},
   "outputs": [],
   "source": [
    "shap_values = explainer.shap_values(X_train)\n",
    "shap.summary_plot(shap_values, X_train)"
   ]
  }
 ],
 "metadata": {
  "interpreter": {
   "hash": "50662f1bd5e0ca383e5af4e21ea00b6e9cc0159e65bc906ee3adc5d35ca5b876"
  },
  "kernelspec": {
   "display_name": "Python 3.8.5 64-bit ('bfore2020': conda)",
   "name": "python3"
  },
  "language_info": {
   "codemirror_mode": {
    "name": "ipython",
    "version": 3
   },
   "file_extension": ".py",
   "mimetype": "text/x-python",
   "name": "python",
   "nbconvert_exporter": "python",
   "pygments_lexer": "ipython3",
   "version": "3.8.5"
  },
  "orig_nbformat": 4
 },
 "nbformat": 4,
 "nbformat_minor": 2
}
