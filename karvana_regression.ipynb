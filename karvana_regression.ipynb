{
 "cells": [
  {
   "cell_type": "code",
   "execution_count": 201,
   "metadata": {},
   "outputs": [],
   "source": [
    "import numpy as np\n",
    "import missingno as msno\n",
    "import pandas as pd\n",
    "from pandas import Series, DataFrame\n",
    "from pandas.api.types import is_string_dtype, is_numeric_dtype  \n",
    "import matplotlib.pyplot as plt\n",
    "from matplotlib import rcParams\n",
    "from collections import Counter\n",
    "import seaborn as sns\n",
    "\n",
    "from sklearn.ensemble import RandomForestRegressor\n",
    "from sklearn.model_selection import train_test_split\n",
    "from datetime import datetime\n",
    "import datetime as dt\n",
    "from sklearn import metrics\n",
    "from sklearn.model_selection import cross_val_score"
   ]
  },
  {
   "cell_type": "code",
   "execution_count": 202,
   "metadata": {},
   "outputs": [],
   "source": [
    "%matplotlib inline \n",
    "rcParams['figure.figsize'] = 5,4 "
   ]
  },
  {
   "cell_type": "code",
   "execution_count": 203,
   "metadata": {},
   "outputs": [
    {
     "name": "stdout",
     "output_type": "stream",
     "text": [
      "Numero de registros y variables:  (205, 24)\n"
     ]
    },
    {
     "data": {
      "text/html": [
       "<div>\n",
       "<style scoped>\n",
       "    .dataframe tbody tr th:only-of-type {\n",
       "        vertical-align: middle;\n",
       "    }\n",
       "\n",
       "    .dataframe tbody tr th {\n",
       "        vertical-align: top;\n",
       "    }\n",
       "\n",
       "    .dataframe thead th {\n",
       "        text-align: right;\n",
       "    }\n",
       "</style>\n",
       "<table border=\"1\" class=\"dataframe\">\n",
       "  <thead>\n",
       "    <tr style=\"text-align: right;\">\n",
       "      <th></th>\n",
       "      <th>make</th>\n",
       "      <th>fuel_type</th>\n",
       "      <th>aspiration</th>\n",
       "      <th>num_of_doors</th>\n",
       "      <th>body_style</th>\n",
       "      <th>drive_wheels</th>\n",
       "      <th>engine_location</th>\n",
       "      <th>wheel_base</th>\n",
       "      <th>length</th>\n",
       "      <th>width</th>\n",
       "      <th>...</th>\n",
       "      <th>engine_size</th>\n",
       "      <th>fuel_system</th>\n",
       "      <th>bore</th>\n",
       "      <th>stroke</th>\n",
       "      <th>compression_ratio</th>\n",
       "      <th>horsepower</th>\n",
       "      <th>peak_rpm</th>\n",
       "      <th>city_mpg</th>\n",
       "      <th>highway_mpg</th>\n",
       "      <th>lnprice</th>\n",
       "    </tr>\n",
       "  </thead>\n",
       "  <tbody>\n",
       "    <tr>\n",
       "      <th>0</th>\n",
       "      <td>alfa-romero</td>\n",
       "      <td>gas</td>\n",
       "      <td>std</td>\n",
       "      <td>two</td>\n",
       "      <td>convertible</td>\n",
       "      <td>rwd</td>\n",
       "      <td>front</td>\n",
       "      <td>-1.690772</td>\n",
       "      <td>-0.426521</td>\n",
       "      <td>-0.844782</td>\n",
       "      <td>...</td>\n",
       "      <td>0.090345</td>\n",
       "      <td>mpfi</td>\n",
       "      <td>0.492718</td>\n",
       "      <td>-1.844656</td>\n",
       "      <td>-0.288349</td>\n",
       "      <td>0.179306</td>\n",
       "      <td>-0.270357</td>\n",
       "      <td>-0.646553</td>\n",
       "      <td>-0.546059</td>\n",
       "      <td>0.343992</td>\n",
       "    </tr>\n",
       "    <tr>\n",
       "      <th>1</th>\n",
       "      <td>alfa-romero</td>\n",
       "      <td>gas</td>\n",
       "      <td>std</td>\n",
       "      <td>two</td>\n",
       "      <td>convertible</td>\n",
       "      <td>rwd</td>\n",
       "      <td>front</td>\n",
       "      <td>-1.690772</td>\n",
       "      <td>-0.426521</td>\n",
       "      <td>-0.844782</td>\n",
       "      <td>...</td>\n",
       "      <td>0.090345</td>\n",
       "      <td>mpfi</td>\n",
       "      <td>0.492718</td>\n",
       "      <td>-1.844656</td>\n",
       "      <td>-0.288349</td>\n",
       "      <td>0.179306</td>\n",
       "      <td>-0.270357</td>\n",
       "      <td>-0.646553</td>\n",
       "      <td>-0.546059</td>\n",
       "      <td>0.741219</td>\n",
       "    </tr>\n",
       "    <tr>\n",
       "      <th>2</th>\n",
       "      <td>alfa-romero</td>\n",
       "      <td>gas</td>\n",
       "      <td>std</td>\n",
       "      <td>two</td>\n",
       "      <td>hatchback</td>\n",
       "      <td>rwd</td>\n",
       "      <td>front</td>\n",
       "      <td>-0.708596</td>\n",
       "      <td>-0.231513</td>\n",
       "      <td>-0.190566</td>\n",
       "      <td>...</td>\n",
       "      <td>0.646977</td>\n",
       "      <td>mpfi</td>\n",
       "      <td>-2.399480</td>\n",
       "      <td>0.675523</td>\n",
       "      <td>-0.288349</td>\n",
       "      <td>1.265619</td>\n",
       "      <td>-0.270357</td>\n",
       "      <td>-0.953012</td>\n",
       "      <td>-0.691627</td>\n",
       "      <td>0.741219</td>\n",
       "    </tr>\n",
       "  </tbody>\n",
       "</table>\n",
       "<p>3 rows × 24 columns</p>\n",
       "</div>"
      ],
      "text/plain": [
       "          make fuel_type aspiration num_of_doors   body_style drive_wheels  \\\n",
       "0  alfa-romero       gas        std          two  convertible          rwd   \n",
       "1  alfa-romero       gas        std          two  convertible          rwd   \n",
       "2  alfa-romero       gas        std          two    hatchback          rwd   \n",
       "\n",
       "  engine_location  wheel_base    length     width  ...  engine_size  \\\n",
       "0           front   -1.690772 -0.426521 -0.844782  ...     0.090345   \n",
       "1           front   -1.690772 -0.426521 -0.844782  ...     0.090345   \n",
       "2           front   -0.708596 -0.231513 -0.190566  ...     0.646977   \n",
       "\n",
       "   fuel_system      bore    stroke  compression_ratio horsepower  peak_rpm  \\\n",
       "0         mpfi  0.492718 -1.844656          -0.288349   0.179306 -0.270357   \n",
       "1         mpfi  0.492718 -1.844656          -0.288349   0.179306 -0.270357   \n",
       "2         mpfi -2.399480  0.675523          -0.288349   1.265619 -0.270357   \n",
       "\n",
       "   city_mpg  highway_mpg   lnprice  \n",
       "0 -0.646553    -0.546059  0.343992  \n",
       "1 -0.646553    -0.546059  0.741219  \n",
       "2 -0.953012    -0.691627  0.741219  \n",
       "\n",
       "[3 rows x 24 columns]"
      ]
     },
     "execution_count": 203,
     "metadata": {},
     "output_type": "execute_result"
    }
   ],
   "source": [
    "df_inicial = pd.read_csv(\"datos_para_trabajo.csv\")\n",
    "print(\"Numero de registros y variables: \" , df_inicial.shape)\n",
    "df_inicial.head(3)"
   ]
  },
  {
   "cell_type": "code",
   "execution_count": 204,
   "metadata": {},
   "outputs": [
    {
     "name": "stdout",
     "output_type": "stream",
     "text": [
      "Datos faltantes\n",
      "make                 0\n",
      "fuel_type            0\n",
      "aspiration           0\n",
      "num_of_doors         0\n",
      "body_style           0\n",
      "drive_wheels         0\n",
      "engine_location      0\n",
      "wheel_base           0\n",
      "length               0\n",
      "width                0\n",
      "height               0\n",
      "curb_weight          0\n",
      "engine_type          0\n",
      "num_of_cylinders     0\n",
      "engine_size          0\n",
      "fuel_system          0\n",
      "bore                 0\n",
      "stroke               0\n",
      "compression_ratio    0\n",
      "horsepower           0\n",
      "peak_rpm             0\n",
      "city_mpg             0\n",
      "highway_mpg          0\n",
      "lnprice              0\n",
      "dtype: int64\n"
     ]
    },
    {
     "data": {
      "text/plain": [
       "<AxesSubplot:>"
      ]
     },
     "execution_count": 204,
     "metadata": {},
     "output_type": "execute_result"
    },
    {
     "data": {
      "image/png": "[encoded data removed]",
      "text/plain": [
       "<Figure size 720x360 with 3 Axes>"
      ]
     },
     "metadata": {},
     "output_type": "display_data"
    }
   ],
   "source": [
    "print(\"Datos faltantes\")\n",
    "print(df_inicial.isnull().sum())\n",
    "plt.style.use('ggplot')\n",
    "msno.bar(df_inicial, figsize=(10,5), color=\"dodgerblue\", fontsize=12)"
   ]
  },
  {
   "cell_type": "code",
   "execution_count": 205,
   "metadata": {},
   "outputs": [
    {
     "data": {
      "text/plain": [
       "make                  object\n",
       "fuel_type             object\n",
       "aspiration            object\n",
       "num_of_doors          object\n",
       "body_style            object\n",
       "drive_wheels          object\n",
       "engine_location       object\n",
       "wheel_base           float64\n",
       "length               float64\n",
       "width                float64\n",
       "height               float64\n",
       "curb_weight          float64\n",
       "engine_type           object\n",
       "num_of_cylinders      object\n",
       "engine_size          float64\n",
       "fuel_system           object\n",
       "bore                 float64\n",
       "stroke               float64\n",
       "compression_ratio    float64\n",
       "horsepower           float64\n",
       "peak_rpm             float64\n",
       "city_mpg             float64\n",
       "highway_mpg          float64\n",
       "lnprice              float64\n",
       "dtype: object"
      ]
     },
     "execution_count": 205,
     "metadata": {},
     "output_type": "execute_result"
    }
   ],
   "source": [
    "df_inicial.dtypes"
   ]
  },
  {
   "cell_type": "code",
   "execution_count": 206,
   "metadata": {},
   "outputs": [
    {
     "name": "stdout",
     "output_type": "stream",
     "text": [
      "Categoricas:  ['make', 'fuel_type', 'aspiration', 'num_of_doors', 'body_style', 'drive_wheels', 'engine_location', 'engine_type', 'num_of_cylinders', 'fuel_system']\n",
      "Numericas:  ['wheel_base', 'length', 'width', 'height', 'curb_weight', 'engine_size', 'bore', 'stroke', 'compression_ratio', 'horsepower', 'peak_rpm', 'city_mpg', 'highway_mpg', 'lnprice']\n"
     ]
    }
   ],
   "source": [
    "## Separamos entre las variable numericas y categoricas\n",
    "num_list = []\n",
    "cat_list = []\n",
    "\n",
    "for column in df_inicial:\n",
    "    if is_numeric_dtype(df_inicial[column]):\n",
    "        num_list.append(column)\n",
    "    elif is_string_dtype(df_inicial[column]):\n",
    "        cat_list.append(column)\n",
    "print('Categoricas: ', cat_list)\n",
    "print('Numericas: ', num_list)"
   ]
  },
  {
   "cell_type": "code",
   "execution_count": 207,
   "metadata": {},
   "outputs": [
    {
     "data": {
      "image/png": "[encoded data removed]",
      "text/plain": [
       "<Figure size 360x288 with 2 Axes>"
      ]
     },
     "metadata": {},
     "output_type": "display_data"
    }
   ],
   "source": [
    "# sns.corrplot(df_inicial[num_list])\n",
    "\n",
    "corr = df_inicial[num_list].corr()\n",
    "ax = sns.heatmap(\n",
    "    corr, \n",
    "    vmin=-1, vmax=1, center=0,\n",
    "    cmap=sns.diverging_palette(20, 220, n=200),\n",
    "    square=True\n",
    ")\n",
    "ax.set_xticklabels(\n",
    "    ax.get_xticklabels(),\n",
    "    rotation=45,\n",
    "    horizontalalignment='right'\n",
    ");"
   ]
  },
  {
   "cell_type": "code",
   "execution_count": 208,
   "metadata": {},
   "outputs": [],
   "source": [
    "# Se crea una nueva variable que pondere con el mismo porcentaje el consumo de combustible en ciudad y carretera\n",
    "df_inicial['fuel_mpg'] = (0.50 * df_inicial['city_mpg']) + (0.50 * df_inicial['highway_mpg'])"
   ]
  },
  {
   "cell_type": "code",
   "execution_count": 209,
   "metadata": {},
   "outputs": [
    {
     "data": {
      "image/png": "[encoded data removed]",
      "text/plain": [
       "<Figure size 360x288 with 2 Axes>"
      ]
     },
     "metadata": {},
     "output_type": "display_data"
    }
   ],
   "source": [
    "## Quitamos las variables menos correlacionadas con la variable objetivo\n",
    "# stroke, compression_ratio\n",
    "## Se retira tambien la variable highway-mpg ya que esta muy correlacionada con city-mpg\n",
    "num_list.append('fuel_mpg')\n",
    "num_list.remove('stroke')\n",
    "num_list.remove('compression_ratio')\n",
    "num_list.remove('height')\n",
    "num_list.remove('peak_rpm')\n",
    "num_list.remove('city_mpg')\n",
    "num_list.remove('highway_mpg')\n",
    "\n",
    "corr = df_inicial[num_list].corr()\n",
    "ax = sns.heatmap(\n",
    "    corr, \n",
    "    vmin=-1, vmax=1, center=0,\n",
    "    cmap=sns.diverging_palette(20, 220, n=200),\n",
    "    square=True\n",
    ")\n",
    "ax.set_xticklabels(\n",
    "    ax.get_xticklabels(),\n",
    "    rotation=45,\n",
    "    horizontalalignment='right'\n",
    ");"
   ]
  },
  {
   "cell_type": "code",
   "execution_count": 210,
   "metadata": {},
   "outputs": [
    {
     "data": {
      "text/html": [
       "<div>\n",
       "<style scoped>\n",
       "    .dataframe tbody tr th:only-of-type {\n",
       "        vertical-align: middle;\n",
       "    }\n",
       "\n",
       "    .dataframe tbody tr th {\n",
       "        vertical-align: top;\n",
       "    }\n",
       "\n",
       "    .dataframe thead th {\n",
       "        text-align: right;\n",
       "    }\n",
       "</style>\n",
       "<table border=\"1\" class=\"dataframe\">\n",
       "  <thead>\n",
       "    <tr style=\"text-align: right;\">\n",
       "      <th></th>\n",
       "      <th>wheel_base</th>\n",
       "      <th>length</th>\n",
       "      <th>width</th>\n",
       "      <th>curb_weight</th>\n",
       "      <th>engine_size</th>\n",
       "      <th>bore</th>\n",
       "      <th>horsepower</th>\n",
       "      <th>lnprice</th>\n",
       "      <th>fuel_mpg</th>\n",
       "    </tr>\n",
       "  </thead>\n",
       "  <tbody>\n",
       "    <tr>\n",
       "      <th>wheel_base</th>\n",
       "      <td>1.000000</td>\n",
       "      <td>0.874587</td>\n",
       "      <td>0.795144</td>\n",
       "      <td>0.776386</td>\n",
       "      <td>0.576057</td>\n",
       "      <td>0.471522</td>\n",
       "      <td>0.354480</td>\n",
       "      <td>0.631025</td>\n",
       "      <td>-0.510922</td>\n",
       "    </tr>\n",
       "    <tr>\n",
       "      <th>length</th>\n",
       "      <td>0.874587</td>\n",
       "      <td>1.000000</td>\n",
       "      <td>0.841118</td>\n",
       "      <td>0.877728</td>\n",
       "      <td>0.694487</td>\n",
       "      <td>0.591369</td>\n",
       "      <td>0.548479</td>\n",
       "      <td>0.769842</td>\n",
       "      <td>-0.692767</td>\n",
       "    </tr>\n",
       "    <tr>\n",
       "      <th>width</th>\n",
       "      <td>0.795144</td>\n",
       "      <td>0.841118</td>\n",
       "      <td>1.000000</td>\n",
       "      <td>0.867032</td>\n",
       "      <td>0.742741</td>\n",
       "      <td>0.551066</td>\n",
       "      <td>0.636906</td>\n",
       "      <td>0.746479</td>\n",
       "      <td>-0.664742</td>\n",
       "    </tr>\n",
       "    <tr>\n",
       "      <th>curb_weight</th>\n",
       "      <td>0.776386</td>\n",
       "      <td>0.877728</td>\n",
       "      <td>0.867032</td>\n",
       "      <td>1.000000</td>\n",
       "      <td>0.863217</td>\n",
       "      <td>0.635681</td>\n",
       "      <td>0.748539</td>\n",
       "      <td>0.859842</td>\n",
       "      <td>-0.783071</td>\n",
       "    </tr>\n",
       "    <tr>\n",
       "      <th>engine_size</th>\n",
       "      <td>0.576057</td>\n",
       "      <td>0.694487</td>\n",
       "      <td>0.742741</td>\n",
       "      <td>0.863217</td>\n",
       "      <td>1.000000</td>\n",
       "      <td>0.563226</td>\n",
       "      <td>0.811824</td>\n",
       "      <td>0.813712</td>\n",
       "      <td>-0.681033</td>\n",
       "    </tr>\n",
       "    <tr>\n",
       "      <th>bore</th>\n",
       "      <td>0.471522</td>\n",
       "      <td>0.591369</td>\n",
       "      <td>0.551066</td>\n",
       "      <td>0.635681</td>\n",
       "      <td>0.563226</td>\n",
       "      <td>1.000000</td>\n",
       "      <td>0.565843</td>\n",
       "      <td>0.585912</td>\n",
       "      <td>-0.608919</td>\n",
       "    </tr>\n",
       "    <tr>\n",
       "      <th>horsepower</th>\n",
       "      <td>0.354480</td>\n",
       "      <td>0.548479</td>\n",
       "      <td>0.636906</td>\n",
       "      <td>0.748539</td>\n",
       "      <td>0.811824</td>\n",
       "      <td>0.565843</td>\n",
       "      <td>1.000000</td>\n",
       "      <td>0.733589</td>\n",
       "      <td>-0.788147</td>\n",
       "    </tr>\n",
       "    <tr>\n",
       "      <th>lnprice</th>\n",
       "      <td>0.631025</td>\n",
       "      <td>0.769842</td>\n",
       "      <td>0.746479</td>\n",
       "      <td>0.859842</td>\n",
       "      <td>0.813712</td>\n",
       "      <td>0.585912</td>\n",
       "      <td>0.733589</td>\n",
       "      <td>1.000000</td>\n",
       "      <td>-0.761520</td>\n",
       "    </tr>\n",
       "    <tr>\n",
       "      <th>fuel_mpg</th>\n",
       "      <td>-0.510922</td>\n",
       "      <td>-0.692767</td>\n",
       "      <td>-0.664742</td>\n",
       "      <td>-0.783071</td>\n",
       "      <td>-0.681033</td>\n",
       "      <td>-0.608919</td>\n",
       "      <td>-0.788147</td>\n",
       "      <td>-0.761520</td>\n",
       "      <td>1.000000</td>\n",
       "    </tr>\n",
       "  </tbody>\n",
       "</table>\n",
       "</div>"
      ],
      "text/plain": [
       "             wheel_base    length     width  curb_weight  engine_size  \\\n",
       "wheel_base     1.000000  0.874587  0.795144     0.776386     0.576057   \n",
       "length         0.874587  1.000000  0.841118     0.877728     0.694487   \n",
       "width          0.795144  0.841118  1.000000     0.867032     0.742741   \n",
       "curb_weight    0.776386  0.877728  0.867032     1.000000     0.863217   \n",
       "engine_size    0.576057  0.694487  0.742741     0.863217     1.000000   \n",
       "bore           0.471522  0.591369  0.551066     0.635681     0.563226   \n",
       "horsepower     0.354480  0.548479  0.636906     0.748539     0.811824   \n",
       "lnprice        0.631025  0.769842  0.746479     0.859842     0.813712   \n",
       "fuel_mpg      -0.510922 -0.692767 -0.664742    -0.783071    -0.681033   \n",
       "\n",
       "                 bore  horsepower   lnprice  fuel_mpg  \n",
       "wheel_base   0.471522    0.354480  0.631025 -0.510922  \n",
       "length       0.591369    0.548479  0.769842 -0.692767  \n",
       "width        0.551066    0.636906  0.746479 -0.664742  \n",
       "curb_weight  0.635681    0.748539  0.859842 -0.783071  \n",
       "engine_size  0.563226    0.811824  0.813712 -0.681033  \n",
       "bore         1.000000    0.565843  0.585912 -0.608919  \n",
       "horsepower   0.565843    1.000000  0.733589 -0.788147  \n",
       "lnprice      0.585912    0.733589  1.000000 -0.761520  \n",
       "fuel_mpg    -0.608919   -0.788147 -0.761520  1.000000  "
      ]
     },
     "execution_count": 210,
     "metadata": {},
     "output_type": "execute_result"
    }
   ],
   "source": [
    "corr"
   ]
  },
  {
   "cell_type": "code",
   "execution_count": 211,
   "metadata": {},
   "outputs": [
    {
     "data": {
      "image/png": "[encoded data removed]",
      "text/plain": [
       "<Figure size 360x288 with 1 Axes>"
      ]
     },
     "metadata": {},
     "output_type": "display_data"
    }
   ],
   "source": [
    "g = sns.boxplot(x='make',y='lnprice',data=df_inicial.sort_values(by=['lnprice']))\n",
    "g.set_ylabel('lnprice',size=14)\n",
    "g.set_xticklabels(g.get_xticklabels(),rotation = 90)\n",
    "g.set_xlabel('make',size=14);"
   ]
  },
  {
   "cell_type": "code",
   "execution_count": 212,
   "metadata": {},
   "outputs": [
    {
     "data": {
      "text/plain": [
       "Counter({'alfa-romero': 3,\n",
       "         'audi': 7,\n",
       "         'bmw': 8,\n",
       "         'chevrolet': 3,\n",
       "         'dodge': 9,\n",
       "         'honda': 13,\n",
       "         'isuzu': 4,\n",
       "         'jaguar': 3,\n",
       "         'mazda': 17,\n",
       "         'mercedes-benz': 8,\n",
       "         'mercury': 1,\n",
       "         'mitsubishi': 13,\n",
       "         'nissan': 18,\n",
       "         'peugot': 11,\n",
       "         'plymouth': 7,\n",
       "         'porsche': 5,\n",
       "         'renault': 2,\n",
       "         'saab': 6,\n",
       "         'subaru': 12,\n",
       "         'toyota': 32,\n",
       "         'volkswagen': 12,\n",
       "         'volvo': 11})"
      ]
     },
     "execution_count": 212,
     "metadata": {},
     "output_type": "execute_result"
    }
   ],
   "source": [
    "Counter(df_inicial.make)"
   ]
  },
  {
   "cell_type": "code",
   "execution_count": 213,
   "metadata": {},
   "outputs": [
    {
     "data": {
      "text/plain": [
       "count    2.050000e+02\n",
       "mean    -2.439024e-11\n",
       "std      1.002448e+00\n",
       "min     -1.571703e+00\n",
       "25%     -7.674789e-01\n",
       "50%     -2.094975e-01\n",
       "75%      7.412192e-01\n",
       "max      2.741078e+00\n",
       "Name: lnprice, dtype: float64"
      ]
     },
     "execution_count": 213,
     "metadata": {},
     "output_type": "execute_result"
    },
    {
     "data": {
      "image/png": "[encoded data removed]",
      "text/plain": [
       "<Figure size 360x288 with 1 Axes>"
      ]
     },
     "metadata": {},
     "output_type": "display_data"
    }
   ],
   "source": [
    "sns.distplot(df_inicial['lnprice'])\n",
    "df_inicial['lnprice'].describe()"
   ]
  },
  {
   "cell_type": "code",
   "execution_count": 214,
   "metadata": {},
   "outputs": [
    {
     "data": {
      "text/html": [
       "<div>\n",
       "<style scoped>\n",
       "    .dataframe tbody tr th:only-of-type {\n",
       "        vertical-align: middle;\n",
       "    }\n",
       "\n",
       "    .dataframe tbody tr th {\n",
       "        vertical-align: top;\n",
       "    }\n",
       "\n",
       "    .dataframe thead th {\n",
       "        text-align: right;\n",
       "    }\n",
       "</style>\n",
       "<table border=\"1\" class=\"dataframe\">\n",
       "  <thead>\n",
       "    <tr style=\"text-align: right;\">\n",
       "      <th></th>\n",
       "      <th>make</th>\n",
       "      <th>fuel_type</th>\n",
       "      <th>aspiration</th>\n",
       "      <th>num_of_doors</th>\n",
       "      <th>body_style</th>\n",
       "      <th>drive_wheels</th>\n",
       "      <th>engine_location</th>\n",
       "      <th>wheel_base</th>\n",
       "      <th>length</th>\n",
       "      <th>width</th>\n",
       "      <th>...</th>\n",
       "      <th>bore</th>\n",
       "      <th>stroke</th>\n",
       "      <th>compression_ratio</th>\n",
       "      <th>horsepower</th>\n",
       "      <th>peak_rpm</th>\n",
       "      <th>city_mpg</th>\n",
       "      <th>highway_mpg</th>\n",
       "      <th>lnprice</th>\n",
       "      <th>fuel_mpg</th>\n",
       "      <th>price_range</th>\n",
       "    </tr>\n",
       "  </thead>\n",
       "  <tbody>\n",
       "    <tr>\n",
       "      <th>0</th>\n",
       "      <td>alfa-romero</td>\n",
       "      <td>gas</td>\n",
       "      <td>std</td>\n",
       "      <td>two</td>\n",
       "      <td>convertible</td>\n",
       "      <td>rwd</td>\n",
       "      <td>front</td>\n",
       "      <td>-1.690772</td>\n",
       "      <td>-0.426521</td>\n",
       "      <td>-0.844782</td>\n",
       "      <td>...</td>\n",
       "      <td>0.492718</td>\n",
       "      <td>-1.844656</td>\n",
       "      <td>-0.288349</td>\n",
       "      <td>0.179306</td>\n",
       "      <td>-0.270357</td>\n",
       "      <td>-0.646553</td>\n",
       "      <td>-0.546059</td>\n",
       "      <td>0.343992</td>\n",
       "      <td>-0.596306</td>\n",
       "      <td>medio</td>\n",
       "    </tr>\n",
       "    <tr>\n",
       "      <th>1</th>\n",
       "      <td>alfa-romero</td>\n",
       "      <td>gas</td>\n",
       "      <td>std</td>\n",
       "      <td>two</td>\n",
       "      <td>convertible</td>\n",
       "      <td>rwd</td>\n",
       "      <td>front</td>\n",
       "      <td>-1.690772</td>\n",
       "      <td>-0.426521</td>\n",
       "      <td>-0.844782</td>\n",
       "      <td>...</td>\n",
       "      <td>0.492718</td>\n",
       "      <td>-1.844656</td>\n",
       "      <td>-0.288349</td>\n",
       "      <td>0.179306</td>\n",
       "      <td>-0.270357</td>\n",
       "      <td>-0.646553</td>\n",
       "      <td>-0.546059</td>\n",
       "      <td>0.741219</td>\n",
       "      <td>-0.596306</td>\n",
       "      <td>medio</td>\n",
       "    </tr>\n",
       "    <tr>\n",
       "      <th>2</th>\n",
       "      <td>alfa-romero</td>\n",
       "      <td>gas</td>\n",
       "      <td>std</td>\n",
       "      <td>two</td>\n",
       "      <td>hatchback</td>\n",
       "      <td>rwd</td>\n",
       "      <td>front</td>\n",
       "      <td>-0.708596</td>\n",
       "      <td>-0.231513</td>\n",
       "      <td>-0.190566</td>\n",
       "      <td>...</td>\n",
       "      <td>-2.399480</td>\n",
       "      <td>0.675523</td>\n",
       "      <td>-0.288349</td>\n",
       "      <td>1.265619</td>\n",
       "      <td>-0.270357</td>\n",
       "      <td>-0.953012</td>\n",
       "      <td>-0.691627</td>\n",
       "      <td>0.741219</td>\n",
       "      <td>-0.822319</td>\n",
       "      <td>medio</td>\n",
       "    </tr>\n",
       "    <tr>\n",
       "      <th>3</th>\n",
       "      <td>audi</td>\n",
       "      <td>gas</td>\n",
       "      <td>std</td>\n",
       "      <td>four</td>\n",
       "      <td>sedan</td>\n",
       "      <td>fwd</td>\n",
       "      <td>front</td>\n",
       "      <td>0.173698</td>\n",
       "      <td>0.207256</td>\n",
       "      <td>0.136542</td>\n",
       "      <td>...</td>\n",
       "      <td>-0.532364</td>\n",
       "      <td>0.452216</td>\n",
       "      <td>-0.035973</td>\n",
       "      <td>-0.048061</td>\n",
       "      <td>0.777340</td>\n",
       "      <td>-0.186865</td>\n",
       "      <td>-0.109354</td>\n",
       "      <td>0.409512</td>\n",
       "      <td>-0.148109</td>\n",
       "      <td>medio</td>\n",
       "    </tr>\n",
       "    <tr>\n",
       "      <th>4</th>\n",
       "      <td>audi</td>\n",
       "      <td>gas</td>\n",
       "      <td>std</td>\n",
       "      <td>four</td>\n",
       "      <td>sedan</td>\n",
       "      <td>4wd</td>\n",
       "      <td>front</td>\n",
       "      <td>0.107110</td>\n",
       "      <td>0.207256</td>\n",
       "      <td>0.230001</td>\n",
       "      <td>...</td>\n",
       "      <td>-0.532364</td>\n",
       "      <td>0.452216</td>\n",
       "      <td>-0.540725</td>\n",
       "      <td>0.280359</td>\n",
       "      <td>0.777340</td>\n",
       "      <td>-1.106241</td>\n",
       "      <td>-1.273900</td>\n",
       "      <td>0.851826</td>\n",
       "      <td>-1.190071</td>\n",
       "      <td>medio</td>\n",
       "    </tr>\n",
       "  </tbody>\n",
       "</table>\n",
       "<p>5 rows × 26 columns</p>\n",
       "</div>"
      ],
      "text/plain": [
       "          make fuel_type aspiration num_of_doors   body_style drive_wheels  \\\n",
       "0  alfa-romero       gas        std          two  convertible          rwd   \n",
       "1  alfa-romero       gas        std          two  convertible          rwd   \n",
       "2  alfa-romero       gas        std          two    hatchback          rwd   \n",
       "3         audi       gas        std         four        sedan          fwd   \n",
       "4         audi       gas        std         four        sedan          4wd   \n",
       "\n",
       "  engine_location  wheel_base    length     width  ...      bore    stroke  \\\n",
       "0           front   -1.690772 -0.426521 -0.844782  ...  0.492718 -1.844656   \n",
       "1           front   -1.690772 -0.426521 -0.844782  ...  0.492718 -1.844656   \n",
       "2           front   -0.708596 -0.231513 -0.190566  ... -2.399480  0.675523   \n",
       "3           front    0.173698  0.207256  0.136542  ... -0.532364  0.452216   \n",
       "4           front    0.107110  0.207256  0.230001  ... -0.532364  0.452216   \n",
       "\n",
       "  compression_ratio horsepower  peak_rpm  city_mpg  highway_mpg   lnprice  \\\n",
       "0         -0.288349   0.179306 -0.270357 -0.646553    -0.546059  0.343992   \n",
       "1         -0.288349   0.179306 -0.270357 -0.646553    -0.546059  0.741219   \n",
       "2         -0.288349   1.265619 -0.270357 -0.953012    -0.691627  0.741219   \n",
       "3         -0.035973  -0.048061  0.777340 -0.186865    -0.109354  0.409512   \n",
       "4         -0.540725   0.280359  0.777340 -1.106241    -1.273900  0.851826   \n",
       "\n",
       "   fuel_mpg  price_range  \n",
       "0 -0.596306        medio  \n",
       "1 -0.596306        medio  \n",
       "2 -0.822319        medio  \n",
       "3 -0.148109        medio  \n",
       "4 -1.190071        medio  \n",
       "\n",
       "[5 rows x 26 columns]"
      ]
     },
     "execution_count": 214,
     "metadata": {},
     "output_type": "execute_result"
    }
   ],
   "source": [
    "### Dado que hay un conteo muy pequeño de autos en una marca, se pueden agrupar, ademas se observa en la\n",
    "#grafica que  un grupo de autos tienen mayor precio.\n",
    "\n",
    "# cars['price'] = cars['price'].astype('int')\n",
    "temp = df_inicial.copy()\n",
    "table = df_inicial.groupby(['make'])['lnprice'].mean()\n",
    "temp = temp.merge(table.reset_index(), how='left',on='make')\n",
    "bins = [-2,-0.5,1,3]\n",
    "cars_bin=['economico','medio','costoso']\n",
    "df_inicial['price_range'] = pd.cut(temp['lnprice_y'],bins,right=False,labels=cars_bin)\n",
    "df_inicial.head()"
   ]
  },
  {
   "cell_type": "code",
   "execution_count": 215,
   "metadata": {},
   "outputs": [
    {
     "data": {
      "image/png": "[encoded data removed]",
      "text/plain": [
       "<Figure size 360x288 with 1 Axes>"
      ]
     },
     "metadata": {},
     "output_type": "display_data"
    }
   ],
   "source": [
    "g = sns.boxplot(x='price_range',y='lnprice',data=df_inicial.sort_values(by=['lnprice']))\n",
    "g.set_ylabel('lnprice',size=14)\n",
    "g.set_xticklabels(g.get_xticklabels(),rotation = 90)\n",
    "g.set_xlabel('fuel_type',size=14);"
   ]
  },
  {
   "cell_type": "code",
   "execution_count": 216,
   "metadata": {},
   "outputs": [
    {
     "data": {
      "image/png": "[encoded data removed]",
      "text/plain": [
       "<Figure size 360x288 with 1 Axes>"
      ]
     },
     "metadata": {},
     "output_type": "display_data"
    }
   ],
   "source": [
    "g = sns.boxplot(x='fuel_type',y='lnprice',data=df_inicial.sort_values(by=['lnprice']))\n",
    "g.set_ylabel('lnprice',size=14)\n",
    "g.set_xticklabels(g.get_xticklabels(),rotation = 90)\n",
    "g.set_xlabel('fuel_type',size=14);"
   ]
  },
  {
   "cell_type": "code",
   "execution_count": 217,
   "metadata": {},
   "outputs": [
    {
     "data": {
      "image/png": "[encoded data removed]",
      "text/plain": [
       "<Figure size 360x288 with 1 Axes>"
      ]
     },
     "metadata": {},
     "output_type": "display_data"
    }
   ],
   "source": [
    "g = sns.boxplot(x='aspiration',y='lnprice',data=df_inicial.sort_values(by=['lnprice']))\n",
    "g.set_ylabel('lnprice',size=14)\n",
    "g.set_xticklabels(g.get_xticklabels(),rotation = 90)\n",
    "g.set_xlabel('aspiration',size=14);"
   ]
  },
  {
   "cell_type": "code",
   "execution_count": 218,
   "metadata": {},
   "outputs": [
    {
     "data": {
      "image/png": "[encoded data removed]",
      "text/plain": [
       "<Figure size 360x288 with 1 Axes>"
      ]
     },
     "metadata": {},
     "output_type": "display_data"
    }
   ],
   "source": [
    "#  'num_of_doors'\n",
    "\n",
    "# Se quita numero de puertas engine_type\n",
    "g = sns.boxplot(x='body_style',y='lnprice',data=df_inicial.sort_values(by=['lnprice']))\n",
    "g.set_ylabel('lnprice',size=14)\n",
    "g.set_xticklabels(g.get_xticklabels(),rotation = 90)\n",
    "g.set_xlabel('body_style',size=14);"
   ]
  },
  {
   "cell_type": "code",
   "execution_count": 219,
   "metadata": {},
   "outputs": [
    {
     "data": {
      "image/png": "[encoded data removed]",
      "text/plain": [
       "<Figure size 360x288 with 1 Axes>"
      ]
     },
     "metadata": {},
     "output_type": "display_data"
    }
   ],
   "source": [
    "# ,  'drive_wheels'\n",
    "\n",
    "g = sns.boxplot(x='engine_location',y='lnprice',data=df_inicial.sort_values(by=['lnprice']))\n",
    "g.set_ylabel('lnprice',size=14)\n",
    "g.set_xticklabels(g.get_xticklabels(),rotation = 90)\n",
    "g.set_xlabel('engine_location',size=14);"
   ]
  },
  {
   "cell_type": "code",
   "execution_count": 220,
   "metadata": {},
   "outputs": [
    {
     "data": {
      "image/png": "[encoded data removed]",
      "text/plain": [
       "<Figure size 360x288 with 1 Axes>"
      ]
     },
     "metadata": {},
     "output_type": "display_data"
    }
   ],
   "source": [
    "#, 'engine_type'\n",
    "g = sns.boxplot(x='num_of_cylinders',y='lnprice',data=df_inicial.sort_values(by=['lnprice']))\n",
    "g.set_ylabel('lnprice',size=14)\n",
    "g.set_xticklabels(g.get_xticklabels(),rotation = 90)\n",
    "g.set_xlabel('num_of_cylinders',size=14);"
   ]
  },
  {
   "cell_type": "code",
   "execution_count": 221,
   "metadata": {},
   "outputs": [
    {
     "data": {
      "image/png": "[encoded data removed]",
      "text/plain": [
       "<Figure size 360x288 with 1 Axes>"
      ]
     },
     "metadata": {},
     "output_type": "display_data"
    }
   ],
   "source": [
    "g = sns.boxplot(x='fuel_system',y='lnprice',data=df_inicial.sort_values(by=['lnprice']))\n",
    "g.set_ylabel('lnprice',size=14)\n",
    "g.set_xticklabels(g.get_xticklabels(),rotation = 90)\n",
    "g.set_xlabel('make',size=14);"
   ]
  },
  {
   "cell_type": "code",
   "execution_count": 222,
   "metadata": {},
   "outputs": [],
   "source": [
    "## Variables finales\n",
    "df_inicial.drop(['city_mpg','highway_mpg','engine_type','drive_wheels','num_of_doors','stroke','compression_ratio','height','peak_rpm', 'make'], axis=1, inplace=True)"
   ]
  },
  {
   "cell_type": "code",
   "execution_count": 225,
   "metadata": {},
   "outputs": [
    {
     "data": {
      "text/plain": [
       "Index(['fuel_type', 'aspiration', 'body_style', 'engine_location',\n",
       "       'wheel_base', 'length', 'width', 'curb_weight', 'num_of_cylinders',\n",
       "       'engine_size', 'fuel_system', 'bore', 'horsepower', 'lnprice',\n",
       "       'fuel_mpg', 'price_range'],\n",
       "      dtype='object')"
      ]
     },
     "execution_count": 225,
     "metadata": {},
     "output_type": "execute_result"
    }
   ],
   "source": [
    "df_inicial.columns"
   ]
  },
  {
   "cell_type": "code",
   "execution_count": 226,
   "metadata": {},
   "outputs": [
    {
     "name": "stdout",
     "output_type": "stream",
     "text": [
      "Numero de filas y variables final:  (205, 16)\n"
     ]
    },
    {
     "data": {
      "text/html": [
       "<div>\n",
       "<style scoped>\n",
       "    .dataframe tbody tr th:only-of-type {\n",
       "        vertical-align: middle;\n",
       "    }\n",
       "\n",
       "    .dataframe tbody tr th {\n",
       "        vertical-align: top;\n",
       "    }\n",
       "\n",
       "    .dataframe thead th {\n",
       "        text-align: right;\n",
       "    }\n",
       "</style>\n",
       "<table border=\"1\" class=\"dataframe\">\n",
       "  <thead>\n",
       "    <tr style=\"text-align: right;\">\n",
       "      <th></th>\n",
       "      <th>fuel_type</th>\n",
       "      <th>aspiration</th>\n",
       "      <th>body_style</th>\n",
       "      <th>engine_location</th>\n",
       "      <th>wheel_base</th>\n",
       "      <th>length</th>\n",
       "      <th>width</th>\n",
       "      <th>curb_weight</th>\n",
       "      <th>num_of_cylinders</th>\n",
       "      <th>engine_size</th>\n",
       "      <th>fuel_system</th>\n",
       "      <th>bore</th>\n",
       "      <th>horsepower</th>\n",
       "      <th>fuel_mpg</th>\n",
       "      <th>price_range</th>\n",
       "      <th>lnprice</th>\n",
       "    </tr>\n",
       "  </thead>\n",
       "  <tbody>\n",
       "    <tr>\n",
       "      <th>0</th>\n",
       "      <td>gas</td>\n",
       "      <td>std</td>\n",
       "      <td>convertible</td>\n",
       "      <td>front</td>\n",
       "      <td>-1.690772</td>\n",
       "      <td>-0.426521</td>\n",
       "      <td>-0.844782</td>\n",
       "      <td>-0.014566</td>\n",
       "      <td>cuatro-o-menos</td>\n",
       "      <td>0.090345</td>\n",
       "      <td>mpfi</td>\n",
       "      <td>0.492718</td>\n",
       "      <td>0.179306</td>\n",
       "      <td>-0.596306</td>\n",
       "      <td>medio</td>\n",
       "      <td>0.343992</td>\n",
       "    </tr>\n",
       "    <tr>\n",
       "      <th>1</th>\n",
       "      <td>gas</td>\n",
       "      <td>std</td>\n",
       "      <td>convertible</td>\n",
       "      <td>front</td>\n",
       "      <td>-1.690772</td>\n",
       "      <td>-0.426521</td>\n",
       "      <td>-0.844782</td>\n",
       "      <td>-0.014566</td>\n",
       "      <td>cuatro-o-menos</td>\n",
       "      <td>0.090345</td>\n",
       "      <td>mpfi</td>\n",
       "      <td>0.492718</td>\n",
       "      <td>0.179306</td>\n",
       "      <td>-0.596306</td>\n",
       "      <td>medio</td>\n",
       "      <td>0.741219</td>\n",
       "    </tr>\n",
       "    <tr>\n",
       "      <th>2</th>\n",
       "      <td>gas</td>\n",
       "      <td>std</td>\n",
       "      <td>hatchback</td>\n",
       "      <td>front</td>\n",
       "      <td>-0.708596</td>\n",
       "      <td>-0.231513</td>\n",
       "      <td>-0.190566</td>\n",
       "      <td>0.514882</td>\n",
       "      <td>cinco-seis</td>\n",
       "      <td>0.646977</td>\n",
       "      <td>mpfi</td>\n",
       "      <td>-2.399480</td>\n",
       "      <td>1.265619</td>\n",
       "      <td>-0.822319</td>\n",
       "      <td>medio</td>\n",
       "      <td>0.741219</td>\n",
       "    </tr>\n",
       "    <tr>\n",
       "      <th>3</th>\n",
       "      <td>gas</td>\n",
       "      <td>std</td>\n",
       "      <td>sedan</td>\n",
       "      <td>front</td>\n",
       "      <td>0.173698</td>\n",
       "      <td>0.207256</td>\n",
       "      <td>0.136542</td>\n",
       "      <td>-0.420797</td>\n",
       "      <td>cuatro-o-menos</td>\n",
       "      <td>-0.440986</td>\n",
       "      <td>mpfi</td>\n",
       "      <td>-0.532364</td>\n",
       "      <td>-0.048061</td>\n",
       "      <td>-0.148109</td>\n",
       "      <td>medio</td>\n",
       "      <td>0.409512</td>\n",
       "    </tr>\n",
       "    <tr>\n",
       "      <th>4</th>\n",
       "      <td>gas</td>\n",
       "      <td>std</td>\n",
       "      <td>sedan</td>\n",
       "      <td>front</td>\n",
       "      <td>0.107110</td>\n",
       "      <td>0.207256</td>\n",
       "      <td>0.230001</td>\n",
       "      <td>0.516807</td>\n",
       "      <td>cinco-seis</td>\n",
       "      <td>0.242154</td>\n",
       "      <td>mpfi</td>\n",
       "      <td>-0.532364</td>\n",
       "      <td>0.280359</td>\n",
       "      <td>-1.190071</td>\n",
       "      <td>medio</td>\n",
       "      <td>0.851826</td>\n",
       "    </tr>\n",
       "  </tbody>\n",
       "</table>\n",
       "</div>"
      ],
      "text/plain": [
       "  fuel_type aspiration   body_style engine_location  wheel_base    length  \\\n",
       "0       gas        std  convertible           front   -1.690772 -0.426521   \n",
       "1       gas        std  convertible           front   -1.690772 -0.426521   \n",
       "2       gas        std    hatchback           front   -0.708596 -0.231513   \n",
       "3       gas        std        sedan           front    0.173698  0.207256   \n",
       "4       gas        std        sedan           front    0.107110  0.207256   \n",
       "\n",
       "      width  curb_weight num_of_cylinders  engine_size fuel_system      bore  \\\n",
       "0 -0.844782    -0.014566   cuatro-o-menos     0.090345        mpfi  0.492718   \n",
       "1 -0.844782    -0.014566   cuatro-o-menos     0.090345        mpfi  0.492718   \n",
       "2 -0.190566     0.514882       cinco-seis     0.646977        mpfi -2.399480   \n",
       "3  0.136542    -0.420797   cuatro-o-menos    -0.440986        mpfi -0.532364   \n",
       "4  0.230001     0.516807       cinco-seis     0.242154        mpfi -0.532364   \n",
       "\n",
       "   horsepower  fuel_mpg price_range   lnprice  \n",
       "0    0.179306 -0.596306       medio  0.343992  \n",
       "1    0.179306 -0.596306       medio  0.741219  \n",
       "2    1.265619 -0.822319       medio  0.741219  \n",
       "3   -0.048061 -0.148109       medio  0.409512  \n",
       "4    0.280359 -1.190071       medio  0.851826  "
      ]
     },
     "execution_count": 226,
     "metadata": {},
     "output_type": "execute_result"
    }
   ],
   "source": [
    "df_modelo = df_inicial[['fuel_type', 'aspiration', 'body_style', 'engine_location',\n",
    "       'wheel_base', 'length', 'width', 'curb_weight', 'num_of_cylinders',\n",
    "       'engine_size', 'fuel_system', 'bore', 'horsepower',\n",
    "       'fuel_mpg', 'price_range', 'lnprice']]\n",
    "print(\"Numero de filas y variables final: \" , df_modelo.shape)\n",
    "df_modelo.head(5)"
   ]
  },
  {
   "cell_type": "code",
   "execution_count": 224,
   "metadata": {},
   "outputs": [],
   "source": [
    "def print_evaluate(true, predicted):  \n",
    "    mae = metrics.mean_absolute_error(true, predicted)\n",
    "    mse = metrics.mean_squared_error(true, predicted)\n",
    "    rmse = np.sqrt(metrics.mean_squared_error(true, predicted))\n",
    "    r2_square = metrics.r2_score(true, predicted)\n",
    "    print('MAE:', mae)\n",
    "    print('MSE:', mse)\n",
    "    print('RMSE:', rmse)\n",
    "    print('R2 Square', r2_square)\n",
    "    print('__________________________________')"
   ]
  },
  {
   "cell_type": "code",
   "execution_count": 227,
   "metadata": {},
   "outputs": [
    {
     "data": {
      "text/html": [
       "<div>\n",
       "<style scoped>\n",
       "    .dataframe tbody tr th:only-of-type {\n",
       "        vertical-align: middle;\n",
       "    }\n",
       "\n",
       "    .dataframe tbody tr th {\n",
       "        vertical-align: top;\n",
       "    }\n",
       "\n",
       "    .dataframe thead th {\n",
       "        text-align: right;\n",
       "    }\n",
       "</style>\n",
       "<table border=\"1\" class=\"dataframe\">\n",
       "  <thead>\n",
       "    <tr style=\"text-align: right;\">\n",
       "      <th></th>\n",
       "      <th>wheel_base</th>\n",
       "      <th>length</th>\n",
       "      <th>width</th>\n",
       "      <th>curb_weight</th>\n",
       "      <th>engine_size</th>\n",
       "      <th>bore</th>\n",
       "      <th>horsepower</th>\n",
       "      <th>fuel_mpg</th>\n",
       "      <th>lnprice</th>\n",
       "      <th>gas</th>\n",
       "      <th>...</th>\n",
       "      <th>ocho-doce</th>\n",
       "      <th>2bbl</th>\n",
       "      <th>4bbl</th>\n",
       "      <th>idi</th>\n",
       "      <th>mfi</th>\n",
       "      <th>mpfi</th>\n",
       "      <th>spdi</th>\n",
       "      <th>spfi</th>\n",
       "      <th>medio</th>\n",
       "      <th>costoso</th>\n",
       "    </tr>\n",
       "  </thead>\n",
       "  <tbody>\n",
       "    <tr>\n",
       "      <th>0</th>\n",
       "      <td>-1.690772</td>\n",
       "      <td>-0.426521</td>\n",
       "      <td>-0.844782</td>\n",
       "      <td>-0.014566</td>\n",
       "      <td>0.090345</td>\n",
       "      <td>0.492718</td>\n",
       "      <td>0.179306</td>\n",
       "      <td>-0.596306</td>\n",
       "      <td>0.343992</td>\n",
       "      <td>1</td>\n",
       "      <td>...</td>\n",
       "      <td>0</td>\n",
       "      <td>0</td>\n",
       "      <td>0</td>\n",
       "      <td>0</td>\n",
       "      <td>0</td>\n",
       "      <td>1</td>\n",
       "      <td>0</td>\n",
       "      <td>0</td>\n",
       "      <td>1</td>\n",
       "      <td>0</td>\n",
       "    </tr>\n",
       "    <tr>\n",
       "      <th>1</th>\n",
       "      <td>-1.690772</td>\n",
       "      <td>-0.426521</td>\n",
       "      <td>-0.844782</td>\n",
       "      <td>-0.014566</td>\n",
       "      <td>0.090345</td>\n",
       "      <td>0.492718</td>\n",
       "      <td>0.179306</td>\n",
       "      <td>-0.596306</td>\n",
       "      <td>0.741219</td>\n",
       "      <td>1</td>\n",
       "      <td>...</td>\n",
       "      <td>0</td>\n",
       "      <td>0</td>\n",
       "      <td>0</td>\n",
       "      <td>0</td>\n",
       "      <td>0</td>\n",
       "      <td>1</td>\n",
       "      <td>0</td>\n",
       "      <td>0</td>\n",
       "      <td>1</td>\n",
       "      <td>0</td>\n",
       "    </tr>\n",
       "    <tr>\n",
       "      <th>2</th>\n",
       "      <td>-0.708596</td>\n",
       "      <td>-0.231513</td>\n",
       "      <td>-0.190566</td>\n",
       "      <td>0.514882</td>\n",
       "      <td>0.646977</td>\n",
       "      <td>-2.399480</td>\n",
       "      <td>1.265619</td>\n",
       "      <td>-0.822319</td>\n",
       "      <td>0.741219</td>\n",
       "      <td>1</td>\n",
       "      <td>...</td>\n",
       "      <td>0</td>\n",
       "      <td>0</td>\n",
       "      <td>0</td>\n",
       "      <td>0</td>\n",
       "      <td>0</td>\n",
       "      <td>1</td>\n",
       "      <td>0</td>\n",
       "      <td>0</td>\n",
       "      <td>1</td>\n",
       "      <td>0</td>\n",
       "    </tr>\n",
       "  </tbody>\n",
       "</table>\n",
       "<p>3 rows × 27 columns</p>\n",
       "</div>"
      ],
      "text/plain": [
       "   wheel_base    length     width  curb_weight  engine_size      bore  \\\n",
       "0   -1.690772 -0.426521 -0.844782    -0.014566     0.090345  0.492718   \n",
       "1   -1.690772 -0.426521 -0.844782    -0.014566     0.090345  0.492718   \n",
       "2   -0.708596 -0.231513 -0.190566     0.514882     0.646977 -2.399480   \n",
       "\n",
       "   horsepower  fuel_mpg   lnprice  gas  ...  ocho-doce  2bbl  4bbl  idi  mfi  \\\n",
       "0    0.179306 -0.596306  0.343992    1  ...          0     0     0    0    0   \n",
       "1    0.179306 -0.596306  0.741219    1  ...          0     0     0    0    0   \n",
       "2    1.265619 -0.822319  0.741219    1  ...          0     0     0    0    0   \n",
       "\n",
       "   mpfi  spdi  spfi  medio  costoso  \n",
       "0     1     0     0      1        0  \n",
       "1     1     0     0      1        0  \n",
       "2     1     0     0      1        0  \n",
       "\n",
       "[3 rows x 27 columns]"
      ]
     },
     "execution_count": 227,
     "metadata": {},
     "output_type": "execute_result"
    }
   ],
   "source": [
    "# Defining the map function\n",
    "def dummies(x,df):\n",
    "    temp = pd.get_dummies(df[x], drop_first = True)\n",
    "    df = pd.concat([df, temp], axis = 1)\n",
    "    df.drop([x], axis = 1, inplace = True)\n",
    "    return df\n",
    "\n",
    "df_modelo = dummies('fuel_type',df_modelo)\n",
    "df_modelo = dummies('aspiration',df_modelo)\n",
    "df_modelo = dummies('body_style',df_modelo)\n",
    "df_modelo = dummies('engine_location',df_modelo)\n",
    "df_modelo = dummies('num_of_cylinders',df_modelo)\n",
    "df_modelo = dummies('fuel_system',df_modelo)\n",
    "df_modelo = dummies('price_range',df_modelo)\n",
    "\n",
    "df_modelo.head(3)"
   ]
  }
 ],
 "metadata": {
  "interpreter": {
   "hash": "50662f1bd5e0ca383e5af4e21ea00b6e9cc0159e65bc906ee3adc5d35ca5b876"
  },
  "kernelspec": {
   "display_name": "Python 3.8.5 64-bit ('bfore2020': conda)",
   "name": "python3"
  },
  "language_info": {
   "codemirror_mode": {
    "name": "ipython",
    "version": 3
   },
   "file_extension": ".py",
   "mimetype": "text/x-python",
   "name": "python",
   "nbconvert_exporter": "python",
   "pygments_lexer": "ipython3",
   "version": "3.8.5"
  },
  "orig_nbformat": 4
 },
 "nbformat": 4,
 "nbformat_minor": 2
}
